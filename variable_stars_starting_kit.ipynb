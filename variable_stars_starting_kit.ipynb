{
 "cells": [
  {
   "cell_type": "markdown",
   "metadata": {},
   "source": [
    "<div style=\"text-align: center;\">\n",
    "    <a href=\"http://www.datascience-paris-saclay.fr\">\n",
    "        <img border=\"0\" src=\"http://project.inria.fr/saclaycds/files/2017/02/logoUPSayPlusCDS_990.png\" width=\"90%\"></a>\n",
    "</div>\n",
    "\n",
    "# RAMP on variable star type prediction\n",
    "\n",
    "<i> Balázs Kégl (LAL/CNRS), Marc Moniez (LAL/CNRS), Alex Gramfort (Inria), Djalel Benbouzid (UPMC), Mehdi Cherti (LAL/CNRS) </i>"
   ]
  },
  {
   "cell_type": "markdown",
   "metadata": {},
   "source": [
    "## Introduction\n",
    "\n",
    "### Variable stars\n",
    "\n",
    "Most stars emit light steadily in time, but a small fraction of them has a variable <i>light curve</i>: light emission versus time. We call them <a href = \"http://en.wikipedia.org/wiki/Variable_star\">variable stars</a>. The light curves are usually <a href=\"http://en.wikipedia.org/wiki/Periodic_function\">periodic</a> and highly regular. There are essentially two reasons why light emission can vary. First, the star itself can be <a href=\"https://www.youtube.com/watch?v=sXJBrRmHPj8\">oscillating</a>, so its light emission varies in time. Second, the star that seems a single point at Earth (because of our large distance) is actually a <a href=\"http://en.wikipedia.org/wiki/Binary_system\"><i>binary system</i></a>: two stars that <a href=\"https://www.youtube.com/watch?v=1kFFwHkxBiI\">orbit around their common center of gravity</a>. When the <a href=\"http://en.wikipedia.org/wiki/Orbital_plane_%28astronomy%29\">orbital plane</a> is parallel to our line of view, the stars <a href=\"http://csep10.phys.utk.edu/astr162/lect/binaries/eclipsing.html\">eclipse each other</a> periodically, creating a light curve with a <a href=\"http://www.dlr.de/en/desktopdefault.aspx/tabid-5170/8702_read-20474/\">charateristic signature</a>. Identifying, classifying, and analyzing variable stars are hugely important for calibrating distances, and making these analyses automatic will be crucial in the upcoming sky survey projects such as <a href=\"http://www.lsst.org/lsst/\">LSST</a>.\n",
    "\n",
    "### The EROS1 database, a catalog of light curves \n",
    "\n",
    "Our data is coming from the <a href=\"http://eros.in2p3.fr/\">EROS1 project</a> that took data between 1990 and 1994.\n",
    "400 <a href=\"http://www.atnf.csiro.au/outreach/education/senior/astrophysics/photometry_photographicastro.html\">photographic plates</a> were taken of the <a href=\"http://en.wikipedia.org/wiki/Large_Magellanic_Cloud\">Large Magellanic Cloud</a> with the <a href=\"http://www.eso.org/public/teles-instr/lasilla/1mschmidt/\">ESO-Schmidt 1m telescope</a>. Each plate covers the same $5^\\circ \\times 5^\\circ$ field, centered at $\\alpha  = 5h18m43s$, $\\delta = −69d42m17s$ in the <a href=\"http://en.wikipedia.org/wiki/Celestial_coordinate_system\">celestial coordinate system</a>. Photos were taken in two <a href = \"http://science-edu.larc.nasa.gov/EDDOCS/Wavelengths_for_Colors.html\">frequency bands</a> (red: 630nm; blue: 385nm), digitized at the <a href=\"http://en.wikipedia.org/wiki/Paris_Observatory\">Observatoire de Paris</a>, and analyzed at the <a href=\"http://cc.in2p3.fr/\">IN2P3 Computing Center</a>.\n",
    "\n",
    "### Selecting variable stars\n",
    "\n",
    "The full catalog contains 8 million objects. We estimated the probability of a star being stable using an in-house algorithm and selected the $\\simeq 1\\%$ least stable stars. The light curve of each selected star was then visually inspected, and the star was either declared stable or assigned a variability type and a quality index. The variability types are <a href=\"http://en.wikipedia.org/wiki/Binary_star#Eclipsing_binaries\">eclipsing binary</a>, <a href=\"http://en.wikipedia.org/wiki/Cepheid_variable\">Cepheid</a>, <a href=\"http://en.wikipedia.org/wiki/RR_Lyrae_variable\">RR-Lyrae</a>, <a href=\"http://en.wikipedia.org/wiki/Mira_variable\">Mira</a>, and other (the variability is clearly established, but the type is unclear). The quality index was visually estimated from 1 (lowest signal to background ratio) to 3 (best signal to background ratio). A total of 22802 variable objects were found that include 9046 RR-Lyrae, 2758 Cepheids, 1596 eclipsing binaries, 890 Miras, and 8512 unclassified objects. About 10% of the data was lost in the data archeology step that included converting the measurements from a native <a href=\"http://en.wikipedia.org/wiki/Physics_Analysis_Workstation\">PAW</a> format to csv, giving us a total of 19429 stars.\n",
    "\n",
    "### Selecting data\n",
    "\n",
    "For the RAMP, we decided to drop all instances in the \"unclassified object\" category since the interpretation of this type was unclear. We then randomly selected 30% of the data for training, giving us 3641 training instances.\n",
    "\n",
    "The data consists of two files, <a href=\"https://drive.google.com/file/d/0BzwKr6zuOkdRRWt5bnYyc2JNS0U/view?usp=sharing\">train.csv</a> contains \"static\" features in a classical row-wise csv table, and <a href=\"https://drive.google.com/file/d/0BzwKr6zuOkdRMXVuRE9FSXNjZTQ/view?usp=sharing\">train_varlength_features.csv.gz</a> is a table that contains all the time series. The contents and the format of both files are explained below."
   ]
  },
  {
   "cell_type": "markdown",
   "metadata": {},
   "source": [
    "# Exploratory data analysis"
   ]
  },
  {
   "cell_type": "code",
   "execution_count": 1,
   "metadata": {},
   "outputs": [],
   "source": [
    "%matplotlib inline\n",
    "import numpy as np\n",
    "import pandas as pd\n",
    "import matplotlib.pyplot as plt\n",
    "from itertools import chain\n",
    "pd.set_option('display.max_columns', None)"
   ]
  },
  {
   "cell_type": "markdown",
   "metadata": {},
   "source": [
    "## Fetch the data and load it in pandas"
   ]
  },
  {
   "cell_type": "code",
   "execution_count": 2,
   "metadata": {},
   "outputs": [],
   "source": [
    "data = pd.read_csv(\"data/train.csv\", index_col=0)"
   ]
  },
  {
   "cell_type": "code",
   "execution_count": 3,
   "metadata": {},
   "outputs": [
    {
     "data": {
      "text/plain": [
       "(3641, 23)"
      ]
     },
     "execution_count": 3,
     "metadata": {},
     "output_type": "execute_result"
    }
   ],
   "source": [
    "data.shape"
   ]
  },
  {
   "cell_type": "markdown",
   "metadata": {},
   "source": [
    "## The static features\n",
    "\n",
    "<span style=\"color:red\">Red variables</span> are ids, labels, or other human-annotated features, so they should not be used as input in the classification. <span style=\"color:lightblue\">Light blue variables</span> are legal but not likely to contribute information to the classification. Black variables are definitely discriminative.\n",
    "\n",
    "<ul>\n",
    "    <li> <code><b><span style=\"color:red\">patch_id</span></b></code>: The catalogue is organized by tiles corresponding to $1$cm$^2$ patches on the plates, this is their id.\n",
    "    <li> <code><b><span style=\"color:red\">star_id_b, star_id_r</span></b></code>: The id of the star within the patch. <code>patch_id</code> and <code>star_id_b</code> or <code>star_id_r</code> identify the stars uniquely, and we use <code>[patch_id]_[star_id_b]</code> for indexing the stars in the pandas table.\n",
    "    <li> <code><b>magnitude_b, magnitude_r</b></code>: The average apparent luminosity of the star (in two frequency bands). <a href=\"http://www.astro-tom.com/technical_data/magnitude_scale.htm\">Magnitude</a> is a logarithmic measure, and the higher it is, the lower the apparent luminosity is.\n",
    "    <li> <code><b><span style=\"color:lightblue\">asc_d, asc_m, asc_s</span></b></code>: <a href=\"http://en.wikipedia.org/wiki/Celestial_coordinate_system\">Celestial</a> <a href=\"http://en.wikipedia.org/wiki/Right_ascension\">right ascension</a> (coordinate) of the star, measured in degrees, minutes, and seconds, respectively.\n",
    "    <li> <code><b><span style=\"color:lightblue\">dec_d, dec_m, dec_s</span></b></code>: <a href=\"http://en.wikipedia.org/wiki/Celestial_coordinate_system\">Celestial</a> <a href=\"http://en.wikipedia.org/wiki/Declination\">declination</a> (coordinate) of the star, measured in degrees, minutes, and seconds, respectively.\n",
    "    <li> <code><b><span style=\"color:black\">period</span></b></code>: the estimated period of the light curve. For the correct period, it should be divided by <code>div_period</code>\n",
    "    <li> <code><b><span style=\"color:lightblue\">frequency</span></b></code>: $1/$<code>period</code>, so it is redundant.\n",
    "    <li> <code><b><span style=\"color:lightblue\">num_points_good_b, num_points_good_r</span></b></code>: Number of good light curve measurements (some measurements can be corrupted). \n",
    "    <li> <code><b><span style=\"color:black\">asym_b, asym_r</span></b></code>: Unknown semantics.\n",
    "    <li> <code><b><span style=\"color:black\">log_p_not_variable</span></b></code>: Logarithm of the estimated probability that the star is stable.\n",
    "    <li> <code><b><span style=\"color:black\">sigma_flux_b, sigma_flux_r</span></b></code>: The square root of the total variance of the light measurements (indicating the amplitude of the variability).\n",
    "    <li> <code><b><span style=\"color:red\">type</span></b></code>: The label to predict.\n",
    "    <li> <code><b><span style=\"color:red \">quality</span></b></code>: Human-annotated measure of the quality of the time curve. The higher the better.\n",
    "    <li> <code><b><span style=\"color:black \">div_period</span></b></code>: The algorithm that estimates the <code>period</code> sometimes finds a multiple of the period. These cases were human-detected, and the divisor was recorded. In principle this variable is not available automatically as an observable, but we are confident that it could be obtained automatically, so we allow it as an input.\n",
    "</ul> "
   ]
  },
  {
   "cell_type": "code",
   "execution_count": 4,
   "metadata": {},
   "outputs": [
    {
     "data": {
      "text/html": [
       "<div>\n",
       "<style scoped>\n",
       "    .dataframe tbody tr th:only-of-type {\n",
       "        vertical-align: middle;\n",
       "    }\n",
       "\n",
       "    .dataframe tbody tr th {\n",
       "        vertical-align: top;\n",
       "    }\n",
       "\n",
       "    .dataframe thead th {\n",
       "        text-align: right;\n",
       "    }\n",
       "</style>\n",
       "<table border=\"1\" class=\"dataframe\">\n",
       "  <thead>\n",
       "    <tr style=\"text-align: right;\">\n",
       "      <th></th>\n",
       "      <th>patch_id</th>\n",
       "      <th>star_id_b</th>\n",
       "      <th>star_id_r</th>\n",
       "      <th>magnitude_b</th>\n",
       "      <th>magnitude_r</th>\n",
       "      <th>asc_d</th>\n",
       "      <th>asc_m</th>\n",
       "      <th>asc_s</th>\n",
       "      <th>dec_d</th>\n",
       "      <th>dec_m</th>\n",
       "      <th>dec_s</th>\n",
       "      <th>period</th>\n",
       "      <th>frequency</th>\n",
       "      <th>num_points_good_b</th>\n",
       "      <th>num_points_good_r</th>\n",
       "      <th>asym_b</th>\n",
       "      <th>asym_r</th>\n",
       "      <th>log_p_not_variable</th>\n",
       "      <th>sigma_flux_b</th>\n",
       "      <th>sigma_flux_r</th>\n",
       "      <th>type</th>\n",
       "      <th>quality</th>\n",
       "      <th>div_period</th>\n",
       "    </tr>\n",
       "  </thead>\n",
       "  <tbody>\n",
       "    <tr>\n",
       "      <th>54_3198</th>\n",
       "      <td>54.0</td>\n",
       "      <td>3198.0</td>\n",
       "      <td>3327.0</td>\n",
       "      <td>19.0780</td>\n",
       "      <td>18.1298</td>\n",
       "      <td>5.0</td>\n",
       "      <td>48.0</td>\n",
       "      <td>19.58</td>\n",
       "      <td>-70.0</td>\n",
       "      <td>36.0</td>\n",
       "      <td>16.84</td>\n",
       "      <td>0.610837</td>\n",
       "      <td>1.637100</td>\n",
       "      <td>123.0</td>\n",
       "      <td>122.0</td>\n",
       "      <td>2.617650</td>\n",
       "      <td>0.794118</td>\n",
       "      <td>-2.760590</td>\n",
       "      <td>41.4272</td>\n",
       "      <td>88.0977</td>\n",
       "      <td>3.0</td>\n",
       "      <td>2.0</td>\n",
       "      <td>1.0</td>\n",
       "    </tr>\n",
       "    <tr>\n",
       "      <th>578_2223</th>\n",
       "      <td>578.0</td>\n",
       "      <td>2223.0</td>\n",
       "      <td>2598.0</td>\n",
       "      <td>19.0282</td>\n",
       "      <td>18.8067</td>\n",
       "      <td>5.0</td>\n",
       "      <td>5.0</td>\n",
       "      <td>52.85</td>\n",
       "      <td>-69.0</td>\n",
       "      <td>8.0</td>\n",
       "      <td>40.12</td>\n",
       "      <td>1.913020</td>\n",
       "      <td>0.522734</td>\n",
       "      <td>119.0</td>\n",
       "      <td>120.0</td>\n",
       "      <td>1.125000</td>\n",
       "      <td>0.600000</td>\n",
       "      <td>-2.237330</td>\n",
       "      <td>39.5553</td>\n",
       "      <td>45.3581</td>\n",
       "      <td>3.0</td>\n",
       "      <td>2.0</td>\n",
       "      <td>6.0</td>\n",
       "    </tr>\n",
       "    <tr>\n",
       "      <th>242_3046</th>\n",
       "      <td>242.0</td>\n",
       "      <td>3046.0</td>\n",
       "      <td>3274.0</td>\n",
       "      <td>17.8534</td>\n",
       "      <td>15.6034</td>\n",
       "      <td>5.0</td>\n",
       "      <td>31.0</td>\n",
       "      <td>26.46</td>\n",
       "      <td>-69.0</td>\n",
       "      <td>14.0</td>\n",
       "      <td>32.21</td>\n",
       "      <td>0.996323</td>\n",
       "      <td>1.003690</td>\n",
       "      <td>102.0</td>\n",
       "      <td>97.0</td>\n",
       "      <td>1.372090</td>\n",
       "      <td>1.365850</td>\n",
       "      <td>-3.580450</td>\n",
       "      <td>118.8270</td>\n",
       "      <td>939.3540</td>\n",
       "      <td>3.0</td>\n",
       "      <td>1.0</td>\n",
       "      <td>1.0</td>\n",
       "    </tr>\n",
       "    <tr>\n",
       "      <th>183_521</th>\n",
       "      <td>183.0</td>\n",
       "      <td>521.0</td>\n",
       "      <td>484.0</td>\n",
       "      <td>19.5333</td>\n",
       "      <td>19.3503</td>\n",
       "      <td>5.0</td>\n",
       "      <td>36.0</td>\n",
       "      <td>22.17</td>\n",
       "      <td>-68.0</td>\n",
       "      <td>38.0</td>\n",
       "      <td>58.52</td>\n",
       "      <td>3.116680</td>\n",
       "      <td>0.320854</td>\n",
       "      <td>124.0</td>\n",
       "      <td>120.0</td>\n",
       "      <td>0.823529</td>\n",
       "      <td>0.518987</td>\n",
       "      <td>-1.928280</td>\n",
       "      <td>23.8917</td>\n",
       "      <td>26.5069</td>\n",
       "      <td>3.0</td>\n",
       "      <td>1.0</td>\n",
       "      <td>8.0</td>\n",
       "    </tr>\n",
       "    <tr>\n",
       "      <th>78_8616</th>\n",
       "      <td>78.0</td>\n",
       "      <td>8616.0</td>\n",
       "      <td>8899.0</td>\n",
       "      <td>19.3348</td>\n",
       "      <td>18.4437</td>\n",
       "      <td>5.0</td>\n",
       "      <td>45.0</td>\n",
       "      <td>26.50</td>\n",
       "      <td>-70.0</td>\n",
       "      <td>1.0</td>\n",
       "      <td>24.55</td>\n",
       "      <td>0.621602</td>\n",
       "      <td>1.608750</td>\n",
       "      <td>122.0</td>\n",
       "      <td>122.0</td>\n",
       "      <td>0.648649</td>\n",
       "      <td>1.000000</td>\n",
       "      <td>-0.007193</td>\n",
       "      <td>28.7311</td>\n",
       "      <td>66.2163</td>\n",
       "      <td>1.0</td>\n",
       "      <td>0.0</td>\n",
       "      <td>1.0</td>\n",
       "    </tr>\n",
       "  </tbody>\n",
       "</table>\n",
       "</div>"
      ],
      "text/plain": [
       "          patch_id  star_id_b  star_id_r  magnitude_b  magnitude_r  asc_d  \\\n",
       "54_3198       54.0     3198.0     3327.0      19.0780      18.1298    5.0   \n",
       "578_2223     578.0     2223.0     2598.0      19.0282      18.8067    5.0   \n",
       "242_3046     242.0     3046.0     3274.0      17.8534      15.6034    5.0   \n",
       "183_521      183.0      521.0      484.0      19.5333      19.3503    5.0   \n",
       "78_8616       78.0     8616.0     8899.0      19.3348      18.4437    5.0   \n",
       "\n",
       "          asc_m  asc_s  dec_d  dec_m  dec_s    period  frequency  \\\n",
       "54_3198    48.0  19.58  -70.0   36.0  16.84  0.610837   1.637100   \n",
       "578_2223    5.0  52.85  -69.0    8.0  40.12  1.913020   0.522734   \n",
       "242_3046   31.0  26.46  -69.0   14.0  32.21  0.996323   1.003690   \n",
       "183_521    36.0  22.17  -68.0   38.0  58.52  3.116680   0.320854   \n",
       "78_8616    45.0  26.50  -70.0    1.0  24.55  0.621602   1.608750   \n",
       "\n",
       "          num_points_good_b  num_points_good_r    asym_b    asym_r  \\\n",
       "54_3198               123.0              122.0  2.617650  0.794118   \n",
       "578_2223              119.0              120.0  1.125000  0.600000   \n",
       "242_3046              102.0               97.0  1.372090  1.365850   \n",
       "183_521               124.0              120.0  0.823529  0.518987   \n",
       "78_8616               122.0              122.0  0.648649  1.000000   \n",
       "\n",
       "          log_p_not_variable  sigma_flux_b  sigma_flux_r  type  quality  \\\n",
       "54_3198            -2.760590       41.4272       88.0977   3.0      2.0   \n",
       "578_2223           -2.237330       39.5553       45.3581   3.0      2.0   \n",
       "242_3046           -3.580450      118.8270      939.3540   3.0      1.0   \n",
       "183_521            -1.928280       23.8917       26.5069   3.0      1.0   \n",
       "78_8616            -0.007193       28.7311       66.2163   1.0      0.0   \n",
       "\n",
       "          div_period  \n",
       "54_3198          1.0  \n",
       "578_2223         6.0  \n",
       "242_3046         1.0  \n",
       "183_521          8.0  \n",
       "78_8616          1.0  "
      ]
     },
     "execution_count": 4,
     "metadata": {},
     "output_type": "execute_result"
    }
   ],
   "source": [
    "data.head()"
   ]
  },
  {
   "cell_type": "markdown",
   "metadata": {},
   "source": [
    "## The labels"
   ]
  },
  {
   "cell_type": "code",
   "execution_count": 5,
   "metadata": {},
   "outputs": [
    {
     "data": {
      "text/html": [
       "<div>\n",
       "<style scoped>\n",
       "    .dataframe tbody tr th:only-of-type {\n",
       "        vertical-align: middle;\n",
       "    }\n",
       "\n",
       "    .dataframe tbody tr th {\n",
       "        vertical-align: top;\n",
       "    }\n",
       "\n",
       "    .dataframe thead th {\n",
       "        text-align: right;\n",
       "    }\n",
       "</style>\n",
       "<table border=\"1\" class=\"dataframe\">\n",
       "  <thead>\n",
       "    <tr style=\"text-align: right;\">\n",
       "      <th></th>\n",
       "      <th>binary</th>\n",
       "      <th>cepheid</th>\n",
       "      <th>rr_lyrae</th>\n",
       "      <th>mira</th>\n",
       "    </tr>\n",
       "  </thead>\n",
       "  <tbody>\n",
       "    <tr>\n",
       "      <th>labels</th>\n",
       "      <td>1.0</td>\n",
       "      <td>2.0</td>\n",
       "      <td>3.0</td>\n",
       "      <td>4.0</td>\n",
       "    </tr>\n",
       "    <tr>\n",
       "      <th>num_instances</th>\n",
       "      <td>439.0</td>\n",
       "      <td>736.0</td>\n",
       "      <td>2231.0</td>\n",
       "      <td>235.0</td>\n",
       "    </tr>\n",
       "  </tbody>\n",
       "</table>\n",
       "</div>"
      ],
      "text/plain": [
       "               binary  cepheid  rr_lyrae   mira\n",
       "labels            1.0      2.0       3.0    4.0\n",
       "num_instances   439.0    736.0    2231.0  235.0"
      ]
     },
     "execution_count": 5,
     "metadata": {},
     "output_type": "execute_result"
    }
   ],
   "source": [
    "labels = np.sort(data['type'].unique())\n",
    "label_names = ['binary', 'cepheid', 'rr_lyrae', 'mira']\n",
    "pd.DataFrame([labels, [data[data['type'] == label].shape[0] for label in labels]], \n",
    "             columns=label_names, \n",
    "             index=[\"labels\", \"num_instances\"])"
   ]
  },
  {
   "cell_type": "markdown",
   "metadata": {},
   "source": [
    "## Some classwise histograms and scatterplots"
   ]
  },
  {
   "cell_type": "code",
   "execution_count": 6,
   "metadata": {},
   "outputs": [],
   "source": [
    "colors = ['r', 'b', 'g', 'm']\n",
    "def plot_classwise_normalized(feature, bins=None):\n",
    "    if bins is None:\n",
    "        bins = np.linspace(data[feature].min(), data[feature].max(), 15)\n",
    "    for label, color in zip(labels, colors):\n",
    "        plt.hist(data[data['type'] == label][feature].values, density=True, bins=bins, \n",
    "                 alpha=0.5, color=color)"
   ]
  },
  {
   "cell_type": "code",
   "execution_count": 7,
   "metadata": {},
   "outputs": [
    {
     "data": {
      "image/png": "[encoded data removed]",
      "text/plain": [
       "<Figure size 432x288 with 1 Axes>"
      ]
     },
     "metadata": {
      "needs_background": "light"
     },
     "output_type": "display_data"
    }
   ],
   "source": [
    "plot_classwise_normalized('period')"
   ]
  },
  {
   "cell_type": "code",
   "execution_count": 8,
   "metadata": {},
   "outputs": [
    {
     "data": {
      "image/png": "[encoded data removed]",
      "text/plain": [
       "<Figure size 432x288 with 1 Axes>"
      ]
     },
     "metadata": {
      "needs_background": "light"
     },
     "output_type": "display_data"
    }
   ],
   "source": [
    "plot_classwise_normalized('period', bins=np.linspace(0, 50, 15))"
   ]
  },
  {
   "cell_type": "markdown",
   "metadata": {},
   "source": [
    "Observe the aliasing below."
   ]
  },
  {
   "cell_type": "code",
   "execution_count": 9,
   "metadata": {},
   "outputs": [
    {
     "data": {
      "image/png": "[encoded data removed]",
      "text/plain": [
       "<Figure size 432x288 with 1 Axes>"
      ]
     },
     "metadata": {
      "needs_background": "light"
     },
     "output_type": "display_data"
    }
   ],
   "source": [
    "plot_classwise_normalized('period', bins=np.linspace(0, 5, 15))"
   ]
  },
  {
   "cell_type": "code",
   "execution_count": 10,
   "metadata": {},
   "outputs": [],
   "source": [
    "data['real_period'] = data['period'] / data['div_period']"
   ]
  },
  {
   "cell_type": "code",
   "execution_count": 11,
   "metadata": {},
   "outputs": [
    {
     "data": {
      "image/png": "[encoded data removed]",
      "text/plain": [
       "<Figure size 432x288 with 1 Axes>"
      ]
     },
     "metadata": {
      "needs_background": "light"
     },
     "output_type": "display_data"
    }
   ],
   "source": [
    "plot_classwise_normalized('real_period')"
   ]
  },
  {
   "cell_type": "code",
   "execution_count": 12,
   "metadata": {},
   "outputs": [
    {
     "data": {
      "image/png": "[encoded data removed]",
      "text/plain": [
       "<Figure size 432x288 with 1 Axes>"
      ]
     },
     "metadata": {
      "needs_background": "light"
     },
     "output_type": "display_data"
    }
   ],
   "source": [
    "plot_classwise_normalized('real_period', bins=np.linspace(0, 50, 15))"
   ]
  },
  {
   "cell_type": "code",
   "execution_count": 13,
   "metadata": {},
   "outputs": [
    {
     "data": {
      "image/png": "[encoded data removed]",
      "text/plain": [
       "<Figure size 432x288 with 1 Axes>"
      ]
     },
     "metadata": {
      "needs_background": "light"
     },
     "output_type": "display_data"
    }
   ],
   "source": [
    "plot_classwise_normalized('real_period', bins=np.linspace(0, 5, 15))"
   ]
  },
  {
   "cell_type": "code",
   "execution_count": 14,
   "metadata": {},
   "outputs": [
    {
     "data": {
      "image/png": "[encoded data removed]",
      "text/plain": [
       "<Figure size 432x288 with 1 Axes>"
      ]
     },
     "metadata": {
      "needs_background": "light"
     },
     "output_type": "display_data"
    }
   ],
   "source": [
    "plot_classwise_normalized('magnitude_b')"
   ]
  },
  {
   "cell_type": "code",
   "execution_count": 15,
   "metadata": {},
   "outputs": [
    {
     "data": {
      "image/png": "[encoded data removed]",
      "text/plain": [
       "<Figure size 432x288 with 1 Axes>"
      ]
     },
     "metadata": {
      "needs_background": "light"
     },
     "output_type": "display_data"
    }
   ],
   "source": [
    "plot_classwise_normalized('magnitude_r')"
   ]
  },
  {
   "cell_type": "code",
   "execution_count": 16,
   "metadata": {},
   "outputs": [
    {
     "data": {
      "image/png": "[encoded data removed]",
      "text/plain": [
       "<Figure size 432x288 with 1 Axes>"
      ]
     },
     "metadata": {
      "needs_background": "light"
     },
     "output_type": "display_data"
    }
   ],
   "source": [
    "plot_classwise_normalized('asym_b')"
   ]
  },
  {
   "cell_type": "code",
   "execution_count": 17,
   "metadata": {},
   "outputs": [
    {
     "data": {
      "image/png": "[encoded data removed]",
      "text/plain": [
       "<Figure size 432x288 with 1 Axes>"
      ]
     },
     "metadata": {
      "needs_background": "light"
     },
     "output_type": "display_data"
    }
   ],
   "source": [
    "plot_classwise_normalized('asym_r')"
   ]
  },
  {
   "cell_type": "code",
   "execution_count": 18,
   "metadata": {},
   "outputs": [
    {
     "data": {
      "image/png": "[encoded data removed]",
      "text/plain": [
       "<Figure size 432x288 with 1 Axes>"
      ]
     },
     "metadata": {
      "needs_background": "light"
     },
     "output_type": "display_data"
    }
   ],
   "source": [
    "plot_classwise_normalized('sigma_flux_b')"
   ]
  },
  {
   "cell_type": "code",
   "execution_count": 19,
   "metadata": {},
   "outputs": [
    {
     "data": {
      "image/png": "[encoded data removed]",
      "text/plain": [
       "<Figure size 432x288 with 1 Axes>"
      ]
     },
     "metadata": {
      "needs_background": "light"
     },
     "output_type": "display_data"
    }
   ],
   "source": [
    "plot_classwise_normalized('sigma_flux_b', bins=np.linspace(0, 1000, 15))"
   ]
  },
  {
   "cell_type": "code",
   "execution_count": 20,
   "metadata": {},
   "outputs": [
    {
     "data": {
      "image/png": "[encoded data removed]",
      "text/plain": [
       "<Figure size 432x288 with 1 Axes>"
      ]
     },
     "metadata": {
      "needs_background": "light"
     },
     "output_type": "display_data"
    }
   ],
   "source": [
    "plot_classwise_normalized('sigma_flux_b', bins=np.linspace(0, 100, 15))"
   ]
  },
  {
   "cell_type": "code",
   "execution_count": 21,
   "metadata": {},
   "outputs": [
    {
     "data": {
      "image/png": "[encoded data removed]",
      "text/plain": [
       "<Figure size 432x288 with 1 Axes>"
      ]
     },
     "metadata": {
      "needs_background": "light"
     },
     "output_type": "display_data"
    }
   ],
   "source": [
    "plot_classwise_normalized('sigma_flux_r')"
   ]
  },
  {
   "cell_type": "code",
   "execution_count": 22,
   "metadata": {},
   "outputs": [
    {
     "data": {
      "image/png": "[encoded data removed]",
      "text/plain": [
       "<Figure size 432x288 with 1 Axes>"
      ]
     },
     "metadata": {
      "needs_background": "light"
     },
     "output_type": "display_data"
    }
   ],
   "source": [
    "plot_classwise_normalized('sigma_flux_r', bins=np.linspace(0, 1000, 15))"
   ]
  },
  {
   "cell_type": "code",
   "execution_count": 23,
   "metadata": {},
   "outputs": [
    {
     "data": {
      "image/png": "[encoded data removed]",
      "text/plain": [
       "<Figure size 432x288 with 1 Axes>"
      ]
     },
     "metadata": {
      "needs_background": "light"
     },
     "output_type": "display_data"
    }
   ],
   "source": [
    "plot_classwise_normalized('sigma_flux_r', bins=np.linspace(0, 100, 15))"
   ]
  },
  {
   "cell_type": "code",
   "execution_count": 24,
   "metadata": {},
   "outputs": [
    {
     "data": {
      "image/png": "[encoded data removed]",
      "text/plain": [
       "<Figure size 432x288 with 1 Axes>"
      ]
     },
     "metadata": {
      "needs_background": "light"
     },
     "output_type": "display_data"
    }
   ],
   "source": [
    "plot_classwise_normalized('log_p_not_variable')"
   ]
  },
  {
   "cell_type": "code",
   "execution_count": 25,
   "metadata": {},
   "outputs": [],
   "source": [
    "colors = ['r', 'b', 'g', 'm']\n",
    "def plot_classwise_scatter(feature1, feature2, range1=None, range2=None):\n",
    "    if range1 is None:\n",
    "        range1 = [data[feature1].min(), data[feature1].max()]\n",
    "    if range2 is None:\n",
    "        range2 = [data[feature2].min(), data[feature2].max()]\n",
    "    for label, color in zip(labels, colors):\n",
    "        plt.xlim(range1[0], range1[1])\n",
    "        plt.ylim(range2[0], range2[1])\n",
    "        plt.scatter(data[data['type'] == label][feature1], \n",
    "                    data[data['type'] == label][feature2],\n",
    "            alpha=0.3, s=80, c=color, marker='.');"
   ]
  },
  {
   "cell_type": "code",
   "execution_count": 26,
   "metadata": {},
   "outputs": [
    {
     "data": {
      "image/png": "[encoded data removed]",
      "text/plain": [
       "<Figure size 432x288 with 1 Axes>"
      ]
     },
     "metadata": {
      "needs_background": "light"
     },
     "output_type": "display_data"
    }
   ],
   "source": [
    "plot_classwise_scatter('magnitude_b', 'magnitude_r')"
   ]
  },
  {
   "cell_type": "code",
   "execution_count": 27,
   "metadata": {},
   "outputs": [
    {
     "data": {
      "image/png": "[encoded data removed]",
      "text/plain": [
       "<Figure size 432x288 with 1 Axes>"
      ]
     },
     "metadata": {
      "needs_background": "light"
     },
     "output_type": "display_data"
    }
   ],
   "source": [
    "plot_classwise_scatter('magnitude_b', 'real_period', range1=None, range2=[0,10])"
   ]
  },
  {
   "cell_type": "markdown",
   "metadata": {},
   "source": [
    "## The time series"
   ]
  },
  {
   "cell_type": "code",
   "execution_count": 28,
   "metadata": {},
   "outputs": [],
   "source": [
    "def star_key(slab_id, star_id_b):\n",
    "    return str(slab_id) + '_' + str(star_id_b)\n",
    "\n",
    "def csv_array_to_float(csv_array_string):\n",
    "    return list(map(float, csv_array_string[1:-1].split(\",\")))"
   ]
  },
  {
   "cell_type": "code",
   "execution_count": 29,
   "metadata": {},
   "outputs": [],
   "source": [
    "raw_time_series = pd.read_csv(\"data/train_varlength_features.csv.gz\", index_col=0, compression='gzip')\n",
    "time_series = raw_time_series.applymap(csv_array_to_float)"
   ]
  },
  {
   "cell_type": "markdown",
   "metadata": {},
   "source": [
    "The time series table contains ten time series per star: five of each frequency bands. Photos were taken once per night on selected days during a four-year period, measuring the majority of the stars about 120 times."
   ]
  },
  {
   "cell_type": "code",
   "execution_count": 30,
   "metadata": {},
   "outputs": [
    {
     "name": "stdout",
     "output_type": "stream",
     "text": [
      "33.0\n",
      "124.0\n",
      "11.0\n",
      "125.0\n"
     ]
    },
    {
     "data": {
      "image/png": "[encoded data removed]",
      "text/plain": [
       "<Figure size 432x288 with 1 Axes>"
      ]
     },
     "metadata": {
      "needs_background": "light"
     },
     "output_type": "display_data"
    }
   ],
   "source": [
    "data.hist('num_points_good_r')\n",
    "print(min(data['num_points_good_b']))\n",
    "print(max(data['num_points_good_b']))\n",
    "print(min(data['num_points_good_r']))\n",
    "print(max(data['num_points_good_r']))"
   ]
  },
  {
   "cell_type": "code",
   "execution_count": 31,
   "metadata": {},
   "outputs": [
    {
     "data": {
      "text/html": [
       "<div>\n",
       "<style scoped>\n",
       "    .dataframe tbody tr th:only-of-type {\n",
       "        vertical-align: middle;\n",
       "    }\n",
       "\n",
       "    .dataframe tbody tr th {\n",
       "        vertical-align: top;\n",
       "    }\n",
       "\n",
       "    .dataframe thead th {\n",
       "        text-align: right;\n",
       "    }\n",
       "</style>\n",
       "<table border=\"1\" class=\"dataframe\">\n",
       "  <thead>\n",
       "    <tr style=\"text-align: right;\">\n",
       "      <th></th>\n",
       "      <th>time_points_b</th>\n",
       "      <th>time_points_r</th>\n",
       "      <th>light_points_b</th>\n",
       "      <th>light_points_r</th>\n",
       "      <th>error_points_b</th>\n",
       "      <th>error_points_r</th>\n",
       "      <th>bkg_points_b</th>\n",
       "      <th>bkg_points_r</th>\n",
       "      <th>polltn_points_b</th>\n",
       "      <th>polltn_points_r</th>\n",
       "    </tr>\n",
       "  </thead>\n",
       "  <tbody>\n",
       "    <tr>\n",
       "      <th>54_3198</th>\n",
       "      <td>[290.3, 291.35, 322.25, 326.24, 345.18, 347.23...</td>\n",
       "      <td>[290.34, 291.31, 322.29, 326.28, 345.23, 347.1...</td>\n",
       "      <td>[18.71, 19.29, 19.27, 19.67, 19.68, 19.02, 18....</td>\n",
       "      <td>[17.96, 18.2, 18.06, 17.98, 18.11, 18.04, 18.1...</td>\n",
       "      <td>[0.12, 0.13, 0.12, 0.17, 0.23, 0.11, 0.11, 0.1...</td>\n",
       "      <td>[0.11, 0.16, 0.1, 0.1, 0.11, 0.15, 0.09, 0.09,...</td>\n",
       "      <td>[0.0, 0.0, 0.0, 0.0, 0.0, 0.0, 0.0, 0.0, 0.0, ...</td>\n",
       "      <td>[0.0, 0.0, 0.0, 0.0, 0.0, 0.0, 0.0, 0.0, 0.0, ...</td>\n",
       "      <td>[0.02, 0.08, 0.03, 0.05, 0.1, 0.05, 0.03, 0.03...</td>\n",
       "      <td>[0.02, 0.02, 0.02, 0.0, 0.02, 0.03, 0.0, 0.0, ...</td>\n",
       "    </tr>\n",
       "    <tr>\n",
       "      <th>578_2223</th>\n",
       "      <td>[290.3, 291.35, 322.25, 326.24, 345.18, 350.15...</td>\n",
       "      <td>[290.34, 291.31, 322.29, 347.17, 348.23, 353.1...</td>\n",
       "      <td>[19.12, 18.66, 18.94, 19.0, 19.0, 19.26, 19.27...</td>\n",
       "      <td>[18.54, 18.32, 18.52, 18.58, 18.95, 18.43, 18....</td>\n",
       "      <td>[0.15, 0.13, 0.16, 0.16, 0.17, 0.19, 0.15, 0.2...</td>\n",
       "      <td>[0.21, 0.24, 0.15, 0.28, 0.19, 0.14, 0.18, 0.1...</td>\n",
       "      <td>[0.0, 0.0, 0.0, 0.0, 0.0, 0.0, 0.0, 0.0, 0.0, ...</td>\n",
       "      <td>[0.0, 0.01, 0.0, 0.01, 0.0, 0.0, 0.0, 0.0, 0.0...</td>\n",
       "      <td>[0.03, 0.03, 0.02, 0.02, 0.03, 0.06, 0.03, 0.0...</td>\n",
       "      <td>[0.02, 0.03, 0.0, 0.05, 0.02, 0.0, 0.02, 0.0, ...</td>\n",
       "    </tr>\n",
       "    <tr>\n",
       "      <th>242_3046</th>\n",
       "      <td>[290.3, 291.35, 322.25, 326.24, 345.18, 347.23...</td>\n",
       "      <td>[290.34, 322.29, 326.28, 347.17, 348.23, 353.1...</td>\n",
       "      <td>[17.78, 17.96, 17.88, 17.87, 17.82, 18.0, 17.6...</td>\n",
       "      <td>[15.63, 15.97, 15.97, 15.71, 15.72, 15.82, 15....</td>\n",
       "      <td>[0.1, 0.11, 0.08, 0.12, 0.12, 0.1, 0.11, 0.16,...</td>\n",
       "      <td>[0.12, 0.1, 0.1, 0.1, 0.07, 0.07, 0.07, 0.07, ...</td>\n",
       "      <td>[0.0, 0.0, 0.0, 0.0, 0.0, 0.0, 0.0, 0.0, 0.0, ...</td>\n",
       "      <td>[0.0, 0.0, 0.0, 0.0, 0.0, 0.0, 0.0, 0.0, 0.0, ...</td>\n",
       "      <td>[0.0, 0.0, 0.0, 0.0, 0.0, 0.0, 0.0, 0.0, 0.0, ...</td>\n",
       "      <td>[0.0, 0.0, 0.0, 0.02, 0.0, 0.0, 0.0, 0.0, 0.0,...</td>\n",
       "    </tr>\n",
       "    <tr>\n",
       "      <th>183_521</th>\n",
       "      <td>[290.3, 291.35, 322.25, 326.24, 345.18, 347.23...</td>\n",
       "      <td>[290.34, 291.31, 322.29, 326.28, 345.23, 347.1...</td>\n",
       "      <td>[19.26, 19.77, 19.22, 19.67, 19.48, 19.43, 20....</td>\n",
       "      <td>[19.51, 19.16, 18.94, 19.16, 18.84, 19.55, 19....</td>\n",
       "      <td>[0.13, 0.2, 0.12, 0.16, 0.17, 0.14, 0.32, 0.19...</td>\n",
       "      <td>[0.3, 0.32, 0.16, 0.2, 0.16, 0.4, 0.23, 0.27, ...</td>\n",
       "      <td>[0.0, 0.0, 0.0, 0.0, 0.0, 0.0, 0.01, 0.0, 0.0,...</td>\n",
       "      <td>[0.01, 0.01, 0.0, 0.0, 0.0, 0.01, 0.0, 0.0, 0....</td>\n",
       "      <td>[0.02, 0.06, 0.02, 0.03, 0.05, 0.05, 0.11, 0.0...</td>\n",
       "      <td>[0.35, 0.21, 0.1, 0.08, 0.08, 0.44, 0.08, 0.11...</td>\n",
       "    </tr>\n",
       "    <tr>\n",
       "      <th>78_8616</th>\n",
       "      <td>[290.3, 291.35, 322.25, 326.24, 345.18, 347.23...</td>\n",
       "      <td>[290.34, 291.31, 322.29, 326.28, 345.23, 347.1...</td>\n",
       "      <td>[19.36, 19.16, 19.74, 19.23, 19.5, 19.3, 19.58...</td>\n",
       "      <td>[18.46, 18.63, 18.49, 18.38, 18.62, 18.41, 18....</td>\n",
       "      <td>[0.14, 0.13, 0.18, 0.11, 0.18, 0.12, 0.18, 0.1...</td>\n",
       "      <td>[0.1, 0.19, 0.1, 0.1, 0.14, 0.16, 0.1, 0.09, 0...</td>\n",
       "      <td>[0.0, 0.0, 0.0, 0.0, 0.0, 0.0, 0.0, 0.0, 0.0, ...</td>\n",
       "      <td>[0.0, 0.0, 0.0, 0.0, 0.0, 0.0, 0.0, 0.0, 0.0, ...</td>\n",
       "      <td>[0.02, 0.02, 0.02, 0.0, 0.02, 0.02, 0.02, 0.02...</td>\n",
       "      <td>[0.0, 0.0, 0.0, 0.0, 0.0, 0.0, 0.0, 0.0, 0.0, ...</td>\n",
       "    </tr>\n",
       "  </tbody>\n",
       "</table>\n",
       "</div>"
      ],
      "text/plain": [
       "                                              time_points_b  \\\n",
       "54_3198   [290.3, 291.35, 322.25, 326.24, 345.18, 347.23...   \n",
       "578_2223  [290.3, 291.35, 322.25, 326.24, 345.18, 350.15...   \n",
       "242_3046  [290.3, 291.35, 322.25, 326.24, 345.18, 347.23...   \n",
       "183_521   [290.3, 291.35, 322.25, 326.24, 345.18, 347.23...   \n",
       "78_8616   [290.3, 291.35, 322.25, 326.24, 345.18, 347.23...   \n",
       "\n",
       "                                              time_points_r  \\\n",
       "54_3198   [290.34, 291.31, 322.29, 326.28, 345.23, 347.1...   \n",
       "578_2223  [290.34, 291.31, 322.29, 347.17, 348.23, 353.1...   \n",
       "242_3046  [290.34, 322.29, 326.28, 347.17, 348.23, 353.1...   \n",
       "183_521   [290.34, 291.31, 322.29, 326.28, 345.23, 347.1...   \n",
       "78_8616   [290.34, 291.31, 322.29, 326.28, 345.23, 347.1...   \n",
       "\n",
       "                                             light_points_b  \\\n",
       "54_3198   [18.71, 19.29, 19.27, 19.67, 19.68, 19.02, 18....   \n",
       "578_2223  [19.12, 18.66, 18.94, 19.0, 19.0, 19.26, 19.27...   \n",
       "242_3046  [17.78, 17.96, 17.88, 17.87, 17.82, 18.0, 17.6...   \n",
       "183_521   [19.26, 19.77, 19.22, 19.67, 19.48, 19.43, 20....   \n",
       "78_8616   [19.36, 19.16, 19.74, 19.23, 19.5, 19.3, 19.58...   \n",
       "\n",
       "                                             light_points_r  \\\n",
       "54_3198   [17.96, 18.2, 18.06, 17.98, 18.11, 18.04, 18.1...   \n",
       "578_2223  [18.54, 18.32, 18.52, 18.58, 18.95, 18.43, 18....   \n",
       "242_3046  [15.63, 15.97, 15.97, 15.71, 15.72, 15.82, 15....   \n",
       "183_521   [19.51, 19.16, 18.94, 19.16, 18.84, 19.55, 19....   \n",
       "78_8616   [18.46, 18.63, 18.49, 18.38, 18.62, 18.41, 18....   \n",
       "\n",
       "                                             error_points_b  \\\n",
       "54_3198   [0.12, 0.13, 0.12, 0.17, 0.23, 0.11, 0.11, 0.1...   \n",
       "578_2223  [0.15, 0.13, 0.16, 0.16, 0.17, 0.19, 0.15, 0.2...   \n",
       "242_3046  [0.1, 0.11, 0.08, 0.12, 0.12, 0.1, 0.11, 0.16,...   \n",
       "183_521   [0.13, 0.2, 0.12, 0.16, 0.17, 0.14, 0.32, 0.19...   \n",
       "78_8616   [0.14, 0.13, 0.18, 0.11, 0.18, 0.12, 0.18, 0.1...   \n",
       "\n",
       "                                             error_points_r  \\\n",
       "54_3198   [0.11, 0.16, 0.1, 0.1, 0.11, 0.15, 0.09, 0.09,...   \n",
       "578_2223  [0.21, 0.24, 0.15, 0.28, 0.19, 0.14, 0.18, 0.1...   \n",
       "242_3046  [0.12, 0.1, 0.1, 0.1, 0.07, 0.07, 0.07, 0.07, ...   \n",
       "183_521   [0.3, 0.32, 0.16, 0.2, 0.16, 0.4, 0.23, 0.27, ...   \n",
       "78_8616   [0.1, 0.19, 0.1, 0.1, 0.14, 0.16, 0.1, 0.09, 0...   \n",
       "\n",
       "                                               bkg_points_b  \\\n",
       "54_3198   [0.0, 0.0, 0.0, 0.0, 0.0, 0.0, 0.0, 0.0, 0.0, ...   \n",
       "578_2223  [0.0, 0.0, 0.0, 0.0, 0.0, 0.0, 0.0, 0.0, 0.0, ...   \n",
       "242_3046  [0.0, 0.0, 0.0, 0.0, 0.0, 0.0, 0.0, 0.0, 0.0, ...   \n",
       "183_521   [0.0, 0.0, 0.0, 0.0, 0.0, 0.0, 0.01, 0.0, 0.0,...   \n",
       "78_8616   [0.0, 0.0, 0.0, 0.0, 0.0, 0.0, 0.0, 0.0, 0.0, ...   \n",
       "\n",
       "                                               bkg_points_r  \\\n",
       "54_3198   [0.0, 0.0, 0.0, 0.0, 0.0, 0.0, 0.0, 0.0, 0.0, ...   \n",
       "578_2223  [0.0, 0.01, 0.0, 0.01, 0.0, 0.0, 0.0, 0.0, 0.0...   \n",
       "242_3046  [0.0, 0.0, 0.0, 0.0, 0.0, 0.0, 0.0, 0.0, 0.0, ...   \n",
       "183_521   [0.01, 0.01, 0.0, 0.0, 0.0, 0.01, 0.0, 0.0, 0....   \n",
       "78_8616   [0.0, 0.0, 0.0, 0.0, 0.0, 0.0, 0.0, 0.0, 0.0, ...   \n",
       "\n",
       "                                            polltn_points_b  \\\n",
       "54_3198   [0.02, 0.08, 0.03, 0.05, 0.1, 0.05, 0.03, 0.03...   \n",
       "578_2223  [0.03, 0.03, 0.02, 0.02, 0.03, 0.06, 0.03, 0.0...   \n",
       "242_3046  [0.0, 0.0, 0.0, 0.0, 0.0, 0.0, 0.0, 0.0, 0.0, ...   \n",
       "183_521   [0.02, 0.06, 0.02, 0.03, 0.05, 0.05, 0.11, 0.0...   \n",
       "78_8616   [0.02, 0.02, 0.02, 0.0, 0.02, 0.02, 0.02, 0.02...   \n",
       "\n",
       "                                            polltn_points_r  \n",
       "54_3198   [0.02, 0.02, 0.02, 0.0, 0.02, 0.03, 0.0, 0.0, ...  \n",
       "578_2223  [0.02, 0.03, 0.0, 0.05, 0.02, 0.0, 0.02, 0.0, ...  \n",
       "242_3046  [0.0, 0.0, 0.0, 0.02, 0.0, 0.0, 0.0, 0.0, 0.0,...  \n",
       "183_521   [0.35, 0.21, 0.1, 0.08, 0.08, 0.44, 0.08, 0.11...  \n",
       "78_8616   [0.0, 0.0, 0.0, 0.0, 0.0, 0.0, 0.0, 0.0, 0.0, ...  "
      ]
     },
     "execution_count": 31,
     "metadata": {},
     "output_type": "execute_result"
    }
   ],
   "source": [
    "time_series.head()"
   ]
  },
  {
   "cell_type": "markdown",
   "metadata": {},
   "source": [
    "Each column contains a list of floating point numbers.\n",
    "\n",
    "<ul>\n",
    "    <li> <code><b><span style=\"color:black\">time_points_b, time_points_r</span></b></code>: The time (in unit of days) when the photos were taken. Note that the filters had to be changed so the time points of the blue and red frequency band are slighty different.\n",
    "    <li> <code><b><span style=\"color:black\">light_points_b, light_points_r</span></b></code>: The light points measured at the time points.\n",
    "    <li> <code><b><span style=\"color:black\">error_points_b, error_points_r</span></b></code>: Uncertainties (error bars) on the light measurements.\n",
    "    <li> <code><b><span style=\"color:lightblue\">bkg_points_, bkg_points_r</span></b></code>: Background noise measured at the time points.\n",
    "    <li> <code><b><span style=\"color:lightblue\">polltn_points_b, polltn_points_r</span></b></code>: Pollution noise measured at the time points.\n",
    "</ul> "
   ]
  },
  {
   "cell_type": "markdown",
   "metadata": {},
   "source": [
    "### Plotting time curves\n",
    "\n",
    "Set the patch id and star id below."
   ]
  },
  {
   "cell_type": "code",
   "execution_count": 32,
   "metadata": {},
   "outputs": [],
   "source": [
    "patch_id = 98\n",
    "star_id_b = 477"
   ]
  },
  {
   "cell_type": "code",
   "execution_count": 33,
   "metadata": {},
   "outputs": [
    {
     "data": {
      "image/png": "[encoded data removed]",
      "text/plain": [
       "<Figure size 432x288 with 1 Axes>"
      ]
     },
     "metadata": {
      "needs_background": "light"
     },
     "output_type": "display_data"
    }
   ],
   "source": [
    "time_points = np.array(time_series.loc[star_key(patch_id, star_id_b)]['time_points_b'])\n",
    "light_points = np.array(time_series.loc[star_key(patch_id, star_id_b)]['light_points_b'])\n",
    "error_points = np.array(time_series.loc[star_key(patch_id, star_id_b)]['error_points_b'])\n",
    "plt.errorbar(time_points, light_points, yerr=error_points, fmt='o');"
   ]
  },
  {
   "cell_type": "markdown",
   "metadata": {},
   "source": [
    "The raw measurements seem rather messy. The scatter of the plots is visibly larger than the measurement uncertainty (which makes it, by definition, a variable star), but there is no visible periodicity. We can use the estimated period to overplot several periods of the curve (\"fold\" the time series) using the following function."
   ]
  },
  {
   "cell_type": "code",
   "execution_count": 34,
   "metadata": {},
   "outputs": [],
   "source": [
    "def fold_time_series(time_point, period, div_period):\n",
    "    real_period = period / div_period\n",
    "    return time_point % real_period  # modulo real_period"
   ]
  },
  {
   "cell_type": "code",
   "execution_count": 35,
   "metadata": {},
   "outputs": [
    {
     "name": "stdout",
     "output_type": "stream",
     "text": [
      "1.41875 1.0\n"
     ]
    }
   ],
   "source": [
    "period = data.loc[star_key(patch_id, star_id_b)]['period']\n",
    "div_period = data.loc[star_key(patch_id, star_id_b)]['div_period']\n",
    "print(period, div_period)"
   ]
  },
  {
   "cell_type": "code",
   "execution_count": 36,
   "metadata": {},
   "outputs": [],
   "source": [
    "time_points_folded = np.array([fold_time_series(time_point, period, div_period) \n",
    "                               for time_point in time_points])"
   ]
  },
  {
   "cell_type": "markdown",
   "metadata": {},
   "source": [
    "The resulting curve has a characteristic signature. "
   ]
  },
  {
   "cell_type": "code",
   "execution_count": 37,
   "metadata": {},
   "outputs": [
    {
     "data": {
      "image/png": "[encoded data removed]",
      "text/plain": [
       "<Figure size 432x288 with 1 Axes>"
      ]
     },
     "metadata": {
      "needs_background": "light"
     },
     "output_type": "display_data"
    }
   ],
   "source": [
    "plt.gca().invert_yaxis()\n",
    "plt.errorbar(time_points_folded, light_points, yerr=error_points, fmt='o');"
   ]
  },
  {
   "cell_type": "markdown",
   "metadata": {},
   "source": [
    "# Submission\n",
    "\n",
    "The goal of the RAMP is to classify the stars into one of the four types. In your code you will have access both to the static features and the time series. You will have to define two classes in two separate files. The submission site will have several examples that you can start from."
   ]
  },
  {
   "cell_type": "markdown",
   "metadata": {},
   "source": [
    "## The feature extractor\n",
    "\n",
    "In <a href=\"https://drive.google.com/open?id=0BzwKr6zuOkdRdW8xWktSbVhTR1U&authuser=0\"><code>feature_extractor.py</code></a> you will define a class called <code>FeatureExtractor</code>. Its main <code>transform</code> method takes a <b>list of dictionaries</b> and outputs a <b>numpy array</b>. Each dictionary of the list corresponds to one star. You can access features of that star using the notation <code>X_dict[i][feature_name]</code>, where <code>feature_name</code> can correspond to any of the features, both in <code>data</code> and <code>time_series</code>. In the following cell we transform our data files in this format, so you can access <code>X_dict</code> here and play with it."
   ]
  },
  {
   "cell_type": "code",
   "execution_count": 38,
   "metadata": {},
   "outputs": [],
   "source": [
    "def merge_two_dicts(x, y):\n",
    "    '''Given two dicts, merge them into a new dict as a shallow copy.'''\n",
    "    z = x.copy()\n",
    "    z.update(y)\n",
    "    return z\n",
    "\n",
    "X_dict = data.drop('type', axis=1).to_dict(orient='records')\n",
    "vf_dict = time_series.to_dict(orient='records')\n",
    "X_dict = [merge_two_dicts(d_inst, v_inst) for d_inst, v_inst in zip(X_dict, vf_dict)]\n",
    "X_df = pd.DataFrame(X_dict)"
   ]
  },
  {
   "cell_type": "code",
   "execution_count": 39,
   "metadata": {},
   "outputs": [
    {
     "data": {
      "text/html": [
       "<div>\n",
       "<style scoped>\n",
       "    .dataframe tbody tr th:only-of-type {\n",
       "        vertical-align: middle;\n",
       "    }\n",
       "\n",
       "    .dataframe tbody tr th {\n",
       "        vertical-align: top;\n",
       "    }\n",
       "\n",
       "    .dataframe thead th {\n",
       "        text-align: right;\n",
       "    }\n",
       "</style>\n",
       "<table border=\"1\" class=\"dataframe\">\n",
       "  <thead>\n",
       "    <tr style=\"text-align: right;\">\n",
       "      <th></th>\n",
       "      <th>patch_id</th>\n",
       "      <th>star_id_b</th>\n",
       "      <th>star_id_r</th>\n",
       "      <th>magnitude_b</th>\n",
       "      <th>magnitude_r</th>\n",
       "      <th>asc_d</th>\n",
       "      <th>asc_m</th>\n",
       "      <th>asc_s</th>\n",
       "      <th>dec_d</th>\n",
       "      <th>dec_m</th>\n",
       "      <th>dec_s</th>\n",
       "      <th>period</th>\n",
       "      <th>frequency</th>\n",
       "      <th>num_points_good_b</th>\n",
       "      <th>num_points_good_r</th>\n",
       "      <th>asym_b</th>\n",
       "      <th>asym_r</th>\n",
       "      <th>log_p_not_variable</th>\n",
       "      <th>sigma_flux_b</th>\n",
       "      <th>sigma_flux_r</th>\n",
       "      <th>quality</th>\n",
       "      <th>div_period</th>\n",
       "      <th>real_period</th>\n",
       "      <th>time_points_b</th>\n",
       "      <th>time_points_r</th>\n",
       "      <th>light_points_b</th>\n",
       "      <th>light_points_r</th>\n",
       "      <th>error_points_b</th>\n",
       "      <th>error_points_r</th>\n",
       "      <th>bkg_points_b</th>\n",
       "      <th>bkg_points_r</th>\n",
       "      <th>polltn_points_b</th>\n",
       "      <th>polltn_points_r</th>\n",
       "    </tr>\n",
       "  </thead>\n",
       "  <tbody>\n",
       "    <tr>\n",
       "      <th>0</th>\n",
       "      <td>54.0</td>\n",
       "      <td>3198.0</td>\n",
       "      <td>3327.0</td>\n",
       "      <td>19.0780</td>\n",
       "      <td>18.1298</td>\n",
       "      <td>5.0</td>\n",
       "      <td>48.0</td>\n",
       "      <td>19.58</td>\n",
       "      <td>-70.0</td>\n",
       "      <td>36.0</td>\n",
       "      <td>16.84</td>\n",
       "      <td>0.610837</td>\n",
       "      <td>1.637100</td>\n",
       "      <td>123.0</td>\n",
       "      <td>122.0</td>\n",
       "      <td>2.61765</td>\n",
       "      <td>0.794118</td>\n",
       "      <td>-2.76059</td>\n",
       "      <td>41.4272</td>\n",
       "      <td>88.0977</td>\n",
       "      <td>2.0</td>\n",
       "      <td>1.0</td>\n",
       "      <td>0.610837</td>\n",
       "      <td>[290.3, 291.35, 322.25, 326.24, 345.18, 347.23...</td>\n",
       "      <td>[290.34, 291.31, 322.29, 326.28, 345.23, 347.1...</td>\n",
       "      <td>[18.71, 19.29, 19.27, 19.67, 19.68, 19.02, 18....</td>\n",
       "      <td>[17.96, 18.2, 18.06, 17.98, 18.11, 18.04, 18.1...</td>\n",
       "      <td>[0.12, 0.13, 0.12, 0.17, 0.23, 0.11, 0.11, 0.1...</td>\n",
       "      <td>[0.11, 0.16, 0.1, 0.1, 0.11, 0.15, 0.09, 0.09,...</td>\n",
       "      <td>[0.0, 0.0, 0.0, 0.0, 0.0, 0.0, 0.0, 0.0, 0.0, ...</td>\n",
       "      <td>[0.0, 0.0, 0.0, 0.0, 0.0, 0.0, 0.0, 0.0, 0.0, ...</td>\n",
       "      <td>[0.02, 0.08, 0.03, 0.05, 0.1, 0.05, 0.03, 0.03...</td>\n",
       "      <td>[0.02, 0.02, 0.02, 0.0, 0.02, 0.03, 0.0, 0.0, ...</td>\n",
       "    </tr>\n",
       "    <tr>\n",
       "      <th>1</th>\n",
       "      <td>578.0</td>\n",
       "      <td>2223.0</td>\n",
       "      <td>2598.0</td>\n",
       "      <td>19.0282</td>\n",
       "      <td>18.8067</td>\n",
       "      <td>5.0</td>\n",
       "      <td>5.0</td>\n",
       "      <td>52.85</td>\n",
       "      <td>-69.0</td>\n",
       "      <td>8.0</td>\n",
       "      <td>40.12</td>\n",
       "      <td>1.913020</td>\n",
       "      <td>0.522734</td>\n",
       "      <td>119.0</td>\n",
       "      <td>120.0</td>\n",
       "      <td>1.12500</td>\n",
       "      <td>0.600000</td>\n",
       "      <td>-2.23733</td>\n",
       "      <td>39.5553</td>\n",
       "      <td>45.3581</td>\n",
       "      <td>2.0</td>\n",
       "      <td>6.0</td>\n",
       "      <td>0.318837</td>\n",
       "      <td>[290.3, 291.35, 322.25, 326.24, 345.18, 350.15...</td>\n",
       "      <td>[290.34, 291.31, 322.29, 347.17, 348.23, 353.1...</td>\n",
       "      <td>[19.12, 18.66, 18.94, 19.0, 19.0, 19.26, 19.27...</td>\n",
       "      <td>[18.54, 18.32, 18.52, 18.58, 18.95, 18.43, 18....</td>\n",
       "      <td>[0.15, 0.13, 0.16, 0.16, 0.17, 0.19, 0.15, 0.2...</td>\n",
       "      <td>[0.21, 0.24, 0.15, 0.28, 0.19, 0.14, 0.18, 0.1...</td>\n",
       "      <td>[0.0, 0.0, 0.0, 0.0, 0.0, 0.0, 0.0, 0.0, 0.0, ...</td>\n",
       "      <td>[0.0, 0.01, 0.0, 0.01, 0.0, 0.0, 0.0, 0.0, 0.0...</td>\n",
       "      <td>[0.03, 0.03, 0.02, 0.02, 0.03, 0.06, 0.03, 0.0...</td>\n",
       "      <td>[0.02, 0.03, 0.0, 0.05, 0.02, 0.0, 0.02, 0.0, ...</td>\n",
       "    </tr>\n",
       "  </tbody>\n",
       "</table>\n",
       "</div>"
      ],
      "text/plain": [
       "   patch_id  star_id_b  star_id_r  magnitude_b  magnitude_r  asc_d  asc_m  \\\n",
       "0      54.0     3198.0     3327.0      19.0780      18.1298    5.0   48.0   \n",
       "1     578.0     2223.0     2598.0      19.0282      18.8067    5.0    5.0   \n",
       "\n",
       "   asc_s  dec_d  dec_m  dec_s    period  frequency  num_points_good_b  \\\n",
       "0  19.58  -70.0   36.0  16.84  0.610837   1.637100              123.0   \n",
       "1  52.85  -69.0    8.0  40.12  1.913020   0.522734              119.0   \n",
       "\n",
       "   num_points_good_r   asym_b    asym_r  log_p_not_variable  sigma_flux_b  \\\n",
       "0              122.0  2.61765  0.794118            -2.76059       41.4272   \n",
       "1              120.0  1.12500  0.600000            -2.23733       39.5553   \n",
       "\n",
       "   sigma_flux_r  quality  div_period  real_period  \\\n",
       "0       88.0977      2.0         1.0     0.610837   \n",
       "1       45.3581      2.0         6.0     0.318837   \n",
       "\n",
       "                                       time_points_b  \\\n",
       "0  [290.3, 291.35, 322.25, 326.24, 345.18, 347.23...   \n",
       "1  [290.3, 291.35, 322.25, 326.24, 345.18, 350.15...   \n",
       "\n",
       "                                       time_points_r  \\\n",
       "0  [290.34, 291.31, 322.29, 326.28, 345.23, 347.1...   \n",
       "1  [290.34, 291.31, 322.29, 347.17, 348.23, 353.1...   \n",
       "\n",
       "                                      light_points_b  \\\n",
       "0  [18.71, 19.29, 19.27, 19.67, 19.68, 19.02, 18....   \n",
       "1  [19.12, 18.66, 18.94, 19.0, 19.0, 19.26, 19.27...   \n",
       "\n",
       "                                      light_points_r  \\\n",
       "0  [17.96, 18.2, 18.06, 17.98, 18.11, 18.04, 18.1...   \n",
       "1  [18.54, 18.32, 18.52, 18.58, 18.95, 18.43, 18....   \n",
       "\n",
       "                                      error_points_b  \\\n",
       "0  [0.12, 0.13, 0.12, 0.17, 0.23, 0.11, 0.11, 0.1...   \n",
       "1  [0.15, 0.13, 0.16, 0.16, 0.17, 0.19, 0.15, 0.2...   \n",
       "\n",
       "                                      error_points_r  \\\n",
       "0  [0.11, 0.16, 0.1, 0.1, 0.11, 0.15, 0.09, 0.09,...   \n",
       "1  [0.21, 0.24, 0.15, 0.28, 0.19, 0.14, 0.18, 0.1...   \n",
       "\n",
       "                                        bkg_points_b  \\\n",
       "0  [0.0, 0.0, 0.0, 0.0, 0.0, 0.0, 0.0, 0.0, 0.0, ...   \n",
       "1  [0.0, 0.0, 0.0, 0.0, 0.0, 0.0, 0.0, 0.0, 0.0, ...   \n",
       "\n",
       "                                        bkg_points_r  \\\n",
       "0  [0.0, 0.0, 0.0, 0.0, 0.0, 0.0, 0.0, 0.0, 0.0, ...   \n",
       "1  [0.0, 0.01, 0.0, 0.01, 0.0, 0.0, 0.0, 0.0, 0.0...   \n",
       "\n",
       "                                     polltn_points_b  \\\n",
       "0  [0.02, 0.08, 0.03, 0.05, 0.1, 0.05, 0.03, 0.03...   \n",
       "1  [0.03, 0.03, 0.02, 0.02, 0.03, 0.06, 0.03, 0.0...   \n",
       "\n",
       "                                     polltn_points_r  \n",
       "0  [0.02, 0.02, 0.02, 0.0, 0.02, 0.03, 0.0, 0.0, ...  \n",
       "1  [0.02, 0.03, 0.0, 0.05, 0.02, 0.0, 0.02, 0.0, ...  "
      ]
     },
     "execution_count": 39,
     "metadata": {},
     "output_type": "execute_result"
    }
   ],
   "source": [
    "X_df.head(2)"
   ]
  },
  {
   "cell_type": "code",
   "execution_count": 40,
   "metadata": {},
   "outputs": [
    {
     "data": {
      "text/plain": [
       "19.078"
      ]
     },
     "execution_count": 40,
     "metadata": {},
     "output_type": "execute_result"
    }
   ],
   "source": [
    "X_df.iloc[0]['magnitude_b']"
   ]
  },
  {
   "cell_type": "markdown",
   "metadata": {},
   "source": [
    "The following cell gives you an example in which we extract some of the features from <code>X_dict</code> and convert it into a numpy array."
   ]
  },
  {
   "cell_type": "code",
   "execution_count": 41,
   "metadata": {},
   "outputs": [],
   "source": [
    "cols = [\n",
    "    'magnitude_b', \n",
    "    'magnitude_r',\n",
    "    'period',\n",
    "    'asym_b', \n",
    "    'asym_r', \n",
    "    'log_p_not_variable', \n",
    "    'sigma_flux_b', \n",
    "    'sigma_flux_r', \n",
    "    'quality', \n",
    "    'div_period',\n",
    "]\n",
    "X_array = np.array([[x[col] for col in cols] for _, x in X_df.iterrows()])"
   ]
  },
  {
   "cell_type": "code",
   "execution_count": 42,
   "metadata": {},
   "outputs": [
    {
     "data": {
      "text/plain": [
       "array([[1.90780e+01, 1.81298e+01, 6.10837e-01, ..., 8.80977e+01,\n",
       "        2.00000e+00, 1.00000e+00],\n",
       "       [1.90282e+01, 1.88067e+01, 1.91302e+00, ..., 4.53581e+01,\n",
       "        2.00000e+00, 6.00000e+00],\n",
       "       [1.78534e+01, 1.56034e+01, 9.96323e-01, ..., 9.39354e+02,\n",
       "        1.00000e+00, 1.00000e+00],\n",
       "       ...,\n",
       "       [2.00662e+01, 1.96090e+01, 7.44748e-01, ..., 2.20585e+01,\n",
       "        0.00000e+00, 1.00000e+00],\n",
       "       [1.66903e+01, 1.61105e+01, 4.01878e+00, ..., 5.22704e+02,\n",
       "        2.00000e+00, 1.00000e+00],\n",
       "       [1.48700e+01, 1.53560e+01, 3.02924e+00, ..., 1.22825e+03,\n",
       "        0.00000e+00, 3.00000e+00]])"
      ]
     },
     "execution_count": 42,
     "metadata": {},
     "output_type": "execute_result"
    }
   ],
   "source": [
    "X_array"
   ]
  },
  {
   "cell_type": "markdown",
   "metadata": {},
   "source": [
    "Finally, here is the full <a href=\"https://drive.google.com/open?id=0BzwKr6zuOkdRdW8xWktSbVhTR1U&authuser=0\"><code>feature_extractor.py</code></a>. The transformation takes place in the <code>transform</code> function. If it does not depend on the training data (only the given instances to be transformed), this is all you have to fill out. If some operations depend on the training data (for example, you go for a PCA), it should be implemented in the <code>fit</code> function."
   ]
  },
  {
   "cell_type": "code",
   "execution_count": 43,
   "metadata": {},
   "outputs": [],
   "source": [
    "import numpy as np\n",
    "\n",
    "class FeatureExtractor(object):\n",
    "\n",
    "    def __init__(self):\n",
    "        pass\n",
    "\n",
    "    def fit(self, X_df, y):\n",
    "        pass\n",
    "\n",
    "    def transform(self, X_df):\n",
    "        cols = [\n",
    "            'magnitude_b',\n",
    "            'magnitude_r',\n",
    "            'period',\n",
    "            'asym_b', \n",
    "            'asym_r', \n",
    "            'log_p_not_variable', \n",
    "            'sigma_flux_b', \n",
    "            'sigma_flux_r', \n",
    "            'quality', \n",
    "            'div_period',\n",
    "        ]\n",
    "        return np.array([[x[col] for col in cols] for _, x in X_df.iterrows()])"
   ]
  },
  {
   "cell_type": "markdown",
   "metadata": {},
   "source": [
    "The following feaure extractor does not use any of the static features. It takes the light curve, bins it into <code>num_bins</code> bins, and return the bin means (blue and red bands concatenated)."
   ]
  },
  {
   "cell_type": "code",
   "execution_count": 44,
   "metadata": {},
   "outputs": [],
   "source": [
    "import numpy as np\n",
    "\n",
    "\n",
    "def fold_time_series(time_point, period, div_period):\n",
    "    return time_point % (period / div_period)\n",
    "\n",
    "\n",
    "def get_bin_means(x, num_bins):\n",
    "    period = x['period']\n",
    "    div_period = x['div_period']\n",
    "    real_period = period / div_period\n",
    "    bins = [i * real_period / num_bins for i in range(num_bins + 1)]\n",
    "    feature_array = np.empty(2 * num_bins)\n",
    "    for band in ['b', 'r']:\n",
    "        time_points = np.array(x['time_points_' + band])\n",
    "        light_points = np.array(x['light_points_' + band])\n",
    "        time_points_folded = np.array([fold_time_series(time_point, period, div_period) \n",
    "                                       for time_point in time_points])\n",
    "        time_points_folded_digitized = np.digitize(time_points_folded, bins) - 1\n",
    "        binned_means = np.array([light_points[time_points_folded_digitized == i].mean()\n",
    "                                for i in range(num_bins)])\n",
    "        if band == 'b':\n",
    "            feature_array[:num_bins] = binned_means\n",
    "        else:\n",
    "            feature_array[num_bins:] = binned_means\n",
    "    return feature_array\n",
    "\n",
    "\n",
    "class FeatureExtractor(object):\n",
    "\n",
    "    def __init__(self):\n",
    "        pass\n",
    "\n",
    "    def fit(self, X_df, y):\n",
    "        pass\n",
    "\n",
    "    def transform(self, X_df):\n",
    "        num_bins = 15\n",
    "        return np.array([get_bin_means(x, num_bins) for _, x in X_df.iterrows()])"
   ]
  },
  {
   "cell_type": "markdown",
   "metadata": {},
   "source": [
    "This feature extractor combines bin means from the time series with three of the best static features."
   ]
  },
  {
   "cell_type": "code",
   "execution_count": 45,
   "metadata": {},
   "outputs": [
    {
     "name": "stdout",
     "output_type": "stream",
     "text": [
      "Overwriting submissions/starting_kit/feature_extractor.py\n"
     ]
    }
   ],
   "source": [
    "%%file submissions/starting_kit/feature_extractor.py\n",
    "\n",
    "import numpy as np\n",
    "\n",
    "\n",
    "def fold_time_series(time_point, period, div_period):\n",
    "    return (time_point -\n",
    "            (time_point // (period / div_period)) * period / div_period)\n",
    "\n",
    "\n",
    "def get_bin_means(x, num_bins):\n",
    "    period = x['period']\n",
    "    div_period = x['div_period']\n",
    "    real_period = period / div_period\n",
    "    bins = [i * real_period / num_bins for i in range(num_bins + 1)]\n",
    "    feature_array = np.empty(2 * num_bins)\n",
    "    for band in ['b', 'r']:\n",
    "        time_points = np.array(x['time_points_' + band])\n",
    "        light_points = np.array(x['light_points_' + band])\n",
    "        time_points_folded = \\\n",
    "            np.array([fold_time_series(time_point, period, div_period)\n",
    "                      for time_point in time_points])\n",
    "        time_points_folded_digitized = \\\n",
    "            np.digitize(time_points_folded, bins) - 1\n",
    "        binned_means = \\\n",
    "            np.array([light_points[time_points_folded_digitized == i].mean()\n",
    "                      for i in range(num_bins)])\n",
    "        if band == 'b':\n",
    "            feature_array[:num_bins] = binned_means\n",
    "        else:\n",
    "            feature_array[num_bins:] = binned_means\n",
    "    return feature_array\n",
    "\n",
    "\n",
    "class FeatureExtractor():\n",
    "\n",
    "    def __init__(self):\n",
    "        pass\n",
    "\n",
    "    def fit(self, X_df, y):\n",
    "        pass\n",
    "\n",
    "    def transform(self, X_df):\n",
    "        cols = [\n",
    "            'magnitude_b',\n",
    "            'magnitude_r'\n",
    "        ]\n",
    "        X_array = \\\n",
    "            np.array([[x[col] for col in cols] for _, x in X_df.iterrows()])\n",
    "        real_period = np.array([x['period'] / x['div_period']\n",
    "                                for _, x in X_df.iterrows()])\n",
    "        X_array = np.concatenate((X_array.T, [real_period])).T\n",
    "        num_bins = 5\n",
    "        X_array_variable_features = \\\n",
    "            np.array([get_bin_means(x, num_bins) for _, x in X_df.iterrows()])\n",
    "        X_array = np.concatenate((X_array.T, X_array_variable_features.T)).T\n",
    "        return X_array"
   ]
  },
  {
   "cell_type": "markdown",
   "metadata": {},
   "source": [
    "## Classification\n",
    "\n",
    "The classifier follows a classical scikit-learn classifier template. It should be placed in the file <a href=\"https://drive.google.com/open?id=0BzwKr6zuOkdRbXk1aTlQRll1dWc&authuser=0\"><code>classifier.py</code></a>. In its simplest form it takes a scikit-learn pipeline and assignes it to <code>self.clf</code> in <code>__init__</code>."
   ]
  },
  {
   "cell_type": "code",
   "execution_count": 46,
   "metadata": {},
   "outputs": [
    {
     "name": "stdout",
     "output_type": "stream",
     "text": [
      "Overwriting submissions/starting_kit/classifier.py\n"
     ]
    }
   ],
   "source": [
    "%%file submissions/starting_kit/classifier.py\n",
    "\n",
    "from sklearn.ensemble import RandomForestClassifier\n",
    "from sklearn.impute import SimpleImputer\n",
    "from sklearn.pipeline import Pipeline\n",
    "from sklearn.base import BaseEstimator\n",
    "\n",
    "\n",
    "class Classifier(BaseEstimator):\n",
    "    def __init__(self):\n",
    "        self.clf = Pipeline([\n",
    "            ('imputer', SimpleImputer(strategy='most_frequent')),\n",
    "            ('rf', RandomForestClassifier(max_depth=5, n_estimators=10))\n",
    "        ])\n",
    "\n",
    "    def fit(self, X, y):\n",
    "        self.clf.fit(X, y)\n",
    "\n",
    "    def predict(self, X):\n",
    "        return self.clf.predict(X)\n",
    "\n",
    "    def predict_proba(self, X):\n",
    "        return self.clf.predict_proba(X)"
   ]
  },
  {
   "cell_type": "markdown",
   "metadata": {},
   "source": [
    "## Local testing (before submission)\n",
    "\n",
    "It is <b><span style=\"color:red\">important that you test your submission files before submitting them</span></b>. For this we provide a unit test - `ramp_test_submission`. \n",
    "\n",
    "First, ensure that `ramp-worflow` is installed (see the [github repo](https://github.com/paris-saclay-cds/ramp-workflow) for installation instructions). \n",
    "\n",
    "Now you can use `ramp_test_submission`. This command will test on files in [`submissions/starting_kit`](/submissions/starting_kit) by default. To specify testing on a different folder use the flag `--submission`. For example to run the test on `submissions/solution1` use: `ramp_test_submission --submission solution1`.\n",
    "\n",
    "If it runs and print training and test errors on each fold, then you can submit the code.\n",
    "\n",
    "For example, below we test the starting kit:"
   ]
  },
  {
   "cell_type": "code",
   "execution_count": 47,
   "metadata": {},
   "outputs": [
    {
     "name": "stdout",
     "output_type": "stream",
     "text": [
      "\u001b[38;5;178m\u001b[1mTesting Classification of variable stars from light curves\u001b[0m\n",
      "\u001b[38;5;178m\u001b[1mReading train and test files from ./data ...\u001b[0m\n",
      "\u001b[38;5;178m\u001b[1mReading cv ...\u001b[0m\n",
      "\u001b[38;5;178m\u001b[1mTraining submissions/starting_kit ...\u001b[0m\n",
      "\u001b[38;5;178m\u001b[1mCV fold 0\u001b[0m\n",
      "submissions/starting_kit/feature_extractor.py:26: RuntimeWarning: Mean of empty slice.\n",
      "  for i in range(num_bins)])\n",
      "/Users/alex/miniconda3/lib/python3.7/site-packages/numpy/core/_methods.py:161: RuntimeWarning: invalid value encountered in double_scalars\n",
      "  ret = ret.dtype.type(ret / rcount)\n",
      "submissions/starting_kit/feature_extractor.py:26: RuntimeWarning: Mean of empty slice.\n",
      "  for i in range(num_bins)])\n",
      "/Users/alex/miniconda3/lib/python3.7/site-packages/numpy/core/_methods.py:161: RuntimeWarning: invalid value encountered in double_scalars\n",
      "  ret = ret.dtype.type(ret / rcount)\n",
      "submissions/starting_kit/feature_extractor.py:26: RuntimeWarning: Mean of empty slice.\n",
      "  for i in range(num_bins)])\n",
      "/Users/alex/miniconda3/lib/python3.7/site-packages/numpy/core/_methods.py:161: RuntimeWarning: invalid value encountered in double_scalars\n",
      "  ret = ret.dtype.type(ret / rcount)\n",
      "\t\u001b[38;5;178m\u001b[1mscore   acc      time\u001b[0m\n",
      "\t\u001b[38;5;10m\u001b[1mtrain\u001b[0m  \u001b[38;5;10m\u001b[1m0.92\u001b[0m  \u001b[38;5;150m2.001042\u001b[0m\n",
      "\t\u001b[38;5;12m\u001b[1mvalid\u001b[0m  \u001b[38;5;12m\u001b[1m0.89\u001b[0m  \u001b[38;5;105m2.267671\u001b[0m\n",
      "\t\u001b[38;5;1m\u001b[1mtest\u001b[0m   \u001b[38;5;1m\u001b[1m0.89\u001b[0m  \u001b[38;5;218m3.660511\u001b[0m\n",
      "\u001b[38;5;178m\u001b[1mCV fold 1\u001b[0m\n",
      "submissions/starting_kit/feature_extractor.py:26: RuntimeWarning: Mean of empty slice.\n",
      "  for i in range(num_bins)])\n",
      "/Users/alex/miniconda3/lib/python3.7/site-packages/numpy/core/_methods.py:161: RuntimeWarning: invalid value encountered in double_scalars\n",
      "  ret = ret.dtype.type(ret / rcount)\n",
      "submissions/starting_kit/feature_extractor.py:26: RuntimeWarning: Mean of empty slice.\n",
      "  for i in range(num_bins)])\n",
      "/Users/alex/miniconda3/lib/python3.7/site-packages/numpy/core/_methods.py:161: RuntimeWarning: invalid value encountered in double_scalars\n",
      "  ret = ret.dtype.type(ret / rcount)\n",
      "submissions/starting_kit/feature_extractor.py:26: RuntimeWarning: Mean of empty slice.\n",
      "  for i in range(num_bins)])\n",
      "/Users/alex/miniconda3/lib/python3.7/site-packages/numpy/core/_methods.py:161: RuntimeWarning: invalid value encountered in double_scalars\n",
      "  ret = ret.dtype.type(ret / rcount)\n",
      "\t\u001b[38;5;178m\u001b[1mscore   acc      time\u001b[0m\n",
      "\t\u001b[38;5;10m\u001b[1mtrain\u001b[0m  \u001b[38;5;10m\u001b[1m0.93\u001b[0m  \u001b[38;5;150m1.812656\u001b[0m\n",
      "\t\u001b[38;5;12m\u001b[1mvalid\u001b[0m  \u001b[38;5;12m\u001b[1m0.89\u001b[0m  \u001b[38;5;105m2.297492\u001b[0m\n",
      "\t\u001b[38;5;1m\u001b[1mtest\u001b[0m   \u001b[38;5;1m\u001b[1m0.91\u001b[0m  \u001b[38;5;218m3.758733\u001b[0m\n",
      "\u001b[38;5;178m\u001b[1mCV fold 2\u001b[0m\n",
      "submissions/starting_kit/feature_extractor.py:26: RuntimeWarning: Mean of empty slice.\n",
      "  for i in range(num_bins)])\n",
      "/Users/alex/miniconda3/lib/python3.7/site-packages/numpy/core/_methods.py:161: RuntimeWarning: invalid value encountered in double_scalars\n",
      "  ret = ret.dtype.type(ret / rcount)\n",
      "submissions/starting_kit/feature_extractor.py:26: RuntimeWarning: Mean of empty slice.\n",
      "  for i in range(num_bins)])\n",
      "/Users/alex/miniconda3/lib/python3.7/site-packages/numpy/core/_methods.py:161: RuntimeWarning: invalid value encountered in double_scalars\n",
      "  ret = ret.dtype.type(ret / rcount)\n",
      "submissions/starting_kit/feature_extractor.py:26: RuntimeWarning: Mean of empty slice.\n",
      "  for i in range(num_bins)])\n",
      "/Users/alex/miniconda3/lib/python3.7/site-packages/numpy/core/_methods.py:161: RuntimeWarning: invalid value encountered in double_scalars\n",
      "  ret = ret.dtype.type(ret / rcount)\n",
      "\t\u001b[38;5;178m\u001b[1mscore   acc      time\u001b[0m\n",
      "\t\u001b[38;5;10m\u001b[1mtrain\u001b[0m  \u001b[38;5;10m\u001b[1m0.92\u001b[0m  \u001b[38;5;150m1.948197\u001b[0m\n",
      "\t\u001b[38;5;12m\u001b[1mvalid\u001b[0m  \u001b[38;5;12m\u001b[1m0.90\u001b[0m  \u001b[38;5;105m2.301868\u001b[0m\n",
      "\t\u001b[38;5;1m\u001b[1mtest\u001b[0m   \u001b[38;5;1m\u001b[1m0.91\u001b[0m  \u001b[38;5;218m3.638949\u001b[0m\n",
      "\u001b[38;5;178m\u001b[1mCV fold 3\u001b[0m\n",
      "submissions/starting_kit/feature_extractor.py:26: RuntimeWarning: Mean of empty slice.\n",
      "  for i in range(num_bins)])\n",
      "/Users/alex/miniconda3/lib/python3.7/site-packages/numpy/core/_methods.py:161: RuntimeWarning: invalid value encountered in double_scalars\n",
      "  ret = ret.dtype.type(ret / rcount)\n",
      "submissions/starting_kit/feature_extractor.py:26: RuntimeWarning: Mean of empty slice.\n",
      "  for i in range(num_bins)])\n",
      "/Users/alex/miniconda3/lib/python3.7/site-packages/numpy/core/_methods.py:161: RuntimeWarning: invalid value encountered in double_scalars\n",
      "  ret = ret.dtype.type(ret / rcount)\n",
      "submissions/starting_kit/feature_extractor.py:26: RuntimeWarning: Mean of empty slice.\n",
      "  for i in range(num_bins)])\n",
      "/Users/alex/miniconda3/lib/python3.7/site-packages/numpy/core/_methods.py:161: RuntimeWarning: invalid value encountered in double_scalars\n",
      "  ret = ret.dtype.type(ret / rcount)\n",
      "\t\u001b[38;5;178m\u001b[1mscore   acc      time\u001b[0m\n",
      "\t\u001b[38;5;10m\u001b[1mtrain\u001b[0m  \u001b[38;5;10m\u001b[1m0.92\u001b[0m  \u001b[38;5;150m1.919656\u001b[0m\n",
      "\t\u001b[38;5;12m\u001b[1mvalid\u001b[0m  \u001b[38;5;12m\u001b[1m0.92\u001b[0m  \u001b[38;5;105m2.191100\u001b[0m\n",
      "\t\u001b[38;5;1m\u001b[1mtest\u001b[0m   \u001b[38;5;1m\u001b[1m0.91\u001b[0m  \u001b[38;5;218m3.733985\u001b[0m\n",
      "\u001b[38;5;178m\u001b[1mCV fold 4\u001b[0m\n",
      "submissions/starting_kit/feature_extractor.py:26: RuntimeWarning: Mean of empty slice.\n",
      "  for i in range(num_bins)])\n",
      "/Users/alex/miniconda3/lib/python3.7/site-packages/numpy/core/_methods.py:161: RuntimeWarning: invalid value encountered in double_scalars\n",
      "  ret = ret.dtype.type(ret / rcount)\n",
      "submissions/starting_kit/feature_extractor.py:26: RuntimeWarning: Mean of empty slice.\n",
      "  for i in range(num_bins)])\n",
      "/Users/alex/miniconda3/lib/python3.7/site-packages/numpy/core/_methods.py:161: RuntimeWarning: invalid value encountered in double_scalars\n",
      "  ret = ret.dtype.type(ret / rcount)\n",
      "submissions/starting_kit/feature_extractor.py:26: RuntimeWarning: Mean of empty slice.\n",
      "  for i in range(num_bins)])\n",
      "/Users/alex/miniconda3/lib/python3.7/site-packages/numpy/core/_methods.py:161: RuntimeWarning: invalid value encountered in double_scalars\n",
      "  ret = ret.dtype.type(ret / rcount)\n",
      "\t\u001b[38;5;178m\u001b[1mscore   acc      time\u001b[0m\n",
      "\t\u001b[38;5;10m\u001b[1mtrain\u001b[0m  \u001b[38;5;10m\u001b[1m0.93\u001b[0m  \u001b[38;5;150m2.026635\u001b[0m\n",
      "\t\u001b[38;5;12m\u001b[1mvalid\u001b[0m  \u001b[38;5;12m\u001b[1m0.90\u001b[0m  \u001b[38;5;105m2.239666\u001b[0m\n",
      "\t\u001b[38;5;1m\u001b[1mtest\u001b[0m   \u001b[38;5;1m\u001b[1m0.91\u001b[0m  \u001b[38;5;218m3.621579\u001b[0m\n",
      "\u001b[38;5;178m\u001b[1mCV fold 5\u001b[0m\n",
      "submissions/starting_kit/feature_extractor.py:26: RuntimeWarning: Mean of empty slice.\n",
      "  for i in range(num_bins)])\n",
      "/Users/alex/miniconda3/lib/python3.7/site-packages/numpy/core/_methods.py:161: RuntimeWarning: invalid value encountered in double_scalars\n",
      "  ret = ret.dtype.type(ret / rcount)\n",
      "submissions/starting_kit/feature_extractor.py:26: RuntimeWarning: Mean of empty slice.\n",
      "  for i in range(num_bins)])\n",
      "/Users/alex/miniconda3/lib/python3.7/site-packages/numpy/core/_methods.py:161: RuntimeWarning: invalid value encountered in double_scalars\n",
      "  ret = ret.dtype.type(ret / rcount)\n",
      "submissions/starting_kit/feature_extractor.py:26: RuntimeWarning: Mean of empty slice.\n",
      "  for i in range(num_bins)])\n",
      "/Users/alex/miniconda3/lib/python3.7/site-packages/numpy/core/_methods.py:161: RuntimeWarning: invalid value encountered in double_scalars\n",
      "  ret = ret.dtype.type(ret / rcount)\n",
      "\t\u001b[38;5;178m\u001b[1mscore   acc      time\u001b[0m\n",
      "\t\u001b[38;5;10m\u001b[1mtrain\u001b[0m  \u001b[38;5;10m\u001b[1m0.91\u001b[0m  \u001b[38;5;150m1.816231\u001b[0m\n",
      "\t\u001b[38;5;12m\u001b[1mvalid\u001b[0m  \u001b[38;5;12m\u001b[1m0.90\u001b[0m  \u001b[38;5;105m2.228508\u001b[0m\n",
      "\t\u001b[38;5;1m\u001b[1mtest\u001b[0m   \u001b[38;5;1m\u001b[1m0.89\u001b[0m  \u001b[38;5;218m3.667225\u001b[0m\n",
      "\u001b[38;5;178m\u001b[1mCV fold 6\u001b[0m\n",
      "submissions/starting_kit/feature_extractor.py:26: RuntimeWarning: Mean of empty slice.\n",
      "  for i in range(num_bins)])\n",
      "/Users/alex/miniconda3/lib/python3.7/site-packages/numpy/core/_methods.py:161: RuntimeWarning: invalid value encountered in double_scalars\n",
      "  ret = ret.dtype.type(ret / rcount)\n",
      "submissions/starting_kit/feature_extractor.py:26: RuntimeWarning: Mean of empty slice.\n",
      "  for i in range(num_bins)])\n",
      "/Users/alex/miniconda3/lib/python3.7/site-packages/numpy/core/_methods.py:161: RuntimeWarning: invalid value encountered in double_scalars\n",
      "  ret = ret.dtype.type(ret / rcount)\n",
      "submissions/starting_kit/feature_extractor.py:26: RuntimeWarning: Mean of empty slice.\n",
      "  for i in range(num_bins)])\n",
      "/Users/alex/miniconda3/lib/python3.7/site-packages/numpy/core/_methods.py:161: RuntimeWarning: invalid value encountered in double_scalars\n",
      "  ret = ret.dtype.type(ret / rcount)\n",
      "\t\u001b[38;5;178m\u001b[1mscore   acc      time\u001b[0m\n",
      "\t\u001b[38;5;10m\u001b[1mtrain\u001b[0m  \u001b[38;5;10m\u001b[1m0.88\u001b[0m  \u001b[38;5;150m1.783697\u001b[0m\n",
      "\t\u001b[38;5;12m\u001b[1mvalid\u001b[0m  \u001b[38;5;12m\u001b[1m0.88\u001b[0m  \u001b[38;5;105m2.233570\u001b[0m\n",
      "\t\u001b[38;5;1m\u001b[1mtest\u001b[0m   \u001b[38;5;1m\u001b[1m0.87\u001b[0m  \u001b[38;5;218m3.645285\u001b[0m\n",
      "\u001b[38;5;178m\u001b[1mCV fold 7\u001b[0m\n"
     ]
    },
    {
     "name": "stdout",
     "output_type": "stream",
     "text": [
      "submissions/starting_kit/feature_extractor.py:26: RuntimeWarning: Mean of empty slice.\n",
      "  for i in range(num_bins)])\n",
      "/Users/alex/miniconda3/lib/python3.7/site-packages/numpy/core/_methods.py:161: RuntimeWarning: invalid value encountered in double_scalars\n",
      "  ret = ret.dtype.type(ret / rcount)\n",
      "submissions/starting_kit/feature_extractor.py:26: RuntimeWarning: Mean of empty slice.\n",
      "  for i in range(num_bins)])\n",
      "/Users/alex/miniconda3/lib/python3.7/site-packages/numpy/core/_methods.py:161: RuntimeWarning: invalid value encountered in double_scalars\n",
      "  ret = ret.dtype.type(ret / rcount)\n",
      "submissions/starting_kit/feature_extractor.py:26: RuntimeWarning: Mean of empty slice.\n",
      "  for i in range(num_bins)])\n",
      "/Users/alex/miniconda3/lib/python3.7/site-packages/numpy/core/_methods.py:161: RuntimeWarning: invalid value encountered in double_scalars\n",
      "  ret = ret.dtype.type(ret / rcount)\n",
      "\t\u001b[38;5;178m\u001b[1mscore   acc      time\u001b[0m\n",
      "\t\u001b[38;5;10m\u001b[1mtrain\u001b[0m  \u001b[38;5;10m\u001b[1m0.92\u001b[0m  \u001b[38;5;150m1.825650\u001b[0m\n",
      "\t\u001b[38;5;12m\u001b[1mvalid\u001b[0m  \u001b[38;5;12m\u001b[1m0.91\u001b[0m  \u001b[38;5;105m2.236660\u001b[0m\n",
      "\t\u001b[38;5;1m\u001b[1mtest\u001b[0m   \u001b[38;5;1m\u001b[1m0.91\u001b[0m  \u001b[38;5;218m3.671434\u001b[0m\n",
      "\u001b[38;5;178m\u001b[1m----------------------------\u001b[0m\n",
      "\u001b[38;5;178m\u001b[1mMean CV scores\u001b[0m\n",
      "\u001b[38;5;178m\u001b[1m----------------------------\u001b[0m\n",
      "\t\u001b[38;5;178m\u001b[1mscore           acc        time\u001b[0m\n",
      "\t\u001b[38;5;10m\u001b[1mtrain\u001b[0m  \u001b[38;5;10m\u001b[1m0.92\u001b[0m \u001b[38;5;150m\u001b[38;5;150m±\u001b[0m\u001b[0m \u001b[38;5;150m0.015\u001b[0m  \u001b[38;5;150m1.9\u001b[0m \u001b[38;5;150m\u001b[38;5;150m±\u001b[0m\u001b[0m \u001b[38;5;150m0.09\u001b[0m\n",
      "\t\u001b[38;5;12m\u001b[1mvalid\u001b[0m   \u001b[38;5;12m\u001b[1m0.9\u001b[0m \u001b[38;5;105m\u001b[38;5;105m±\u001b[0m\u001b[0m \u001b[38;5;105m0.012\u001b[0m  \u001b[38;5;105m2.2\u001b[0m \u001b[38;5;105m\u001b[38;5;105m±\u001b[0m\u001b[0m \u001b[38;5;105m0.03\u001b[0m\n",
      "\t\u001b[38;5;1m\u001b[1mtest\u001b[0m    \u001b[38;5;1m\u001b[1m0.9\u001b[0m \u001b[38;5;218m\u001b[38;5;218m±\u001b[0m\u001b[0m \u001b[38;5;218m0.014\u001b[0m  \u001b[38;5;218m3.7\u001b[0m \u001b[38;5;218m\u001b[38;5;218m±\u001b[0m\u001b[0m \u001b[38;5;218m0.04\u001b[0m\n",
      "\u001b[38;5;178m\u001b[1m----------------------------\u001b[0m\n",
      "\u001b[38;5;178m\u001b[1mBagged scores\u001b[0m\n",
      "\u001b[38;5;178m\u001b[1m----------------------------\u001b[0m\n",
      "\t\u001b[38;5;178m\u001b[1mscore   acc\u001b[0m\n",
      "\t\u001b[38;5;12m\u001b[1mvalid\u001b[0m  \u001b[38;5;12m\u001b[1m0.90\u001b[0m\n",
      "\t\u001b[38;5;1m\u001b[1mtest\u001b[0m   \u001b[38;5;1m\u001b[1m0.91\u001b[0m\n"
     ]
    }
   ],
   "source": [
    "!ramp_test_submission"
   ]
  },
  {
   "cell_type": "markdown",
   "metadata": {},
   "source": [
    "## Submitting to [ramp.studio](http://ramp.studio)\n",
    "\n",
    "Once you found a good model, you can submit it to [ramp.studio](http://www.ramp.studio). First, if it is your first time using RAMP, [sign up](http://www.ramp.studio/sign_up), otherwise [log in](http://www.ramp.studio/login). Then sign up for the challenge and the event. Both signups are controlled by RAMP administrators, so there **can be a delay between asking for signup and being able to submit**.\n",
    "\n",
    "Once your signup request is accepted, you can go to your sandbox.\n",
    "\n",
    "The data set we use at the backend is usually different from what you find in the starting kit, so the score may be different.\n",
    "\n",
    "The usual way to work with RAMP is to explore solutions, add feature transformations, select models, perhaps do some AutoML/hyperopt, etc., _locally_ then check that your submission works locally with `ramp_test_submission`. The script will print mean cross-validation scores if your submission works."
   ]
  },
  {
   "cell_type": "markdown",
   "metadata": {},
   "source": [
    "## More information\n",
    "\n",
    "You can find more information in the [README](https://github.com/paris-saclay-cds/ramp-workflow/blob/master/README.md) of the [ramp-workflow library](https://github.com/paris-saclay-cds/ramp-workflow)."
   ]
  }
 ],
 "metadata": {
  "kernelspec": {
   "display_name": "Python 3",
   "language": "python",
   "name": "python3"
  },
  "language_info": {
   "codemirror_mode": {
    "name": "ipython",
    "version": 3
   },
   "file_extension": ".py",
   "mimetype": "text/x-python",
   "name": "python",
   "nbconvert_exporter": "python",
   "pygments_lexer": "ipython3",
   "version": "3.7.5"
  }
 },
 "nbformat": 4,
 "nbformat_minor": 1
}
